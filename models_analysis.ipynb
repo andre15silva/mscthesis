{
 "cells": [
  {
   "cell_type": "code",
   "execution_count": 1,
   "id": "e2547dd4",
   "metadata": {},
   "outputs": [],
   "source": [
    "import pandas as pd\n",
    "import json\n",
    "\n",
    "def read_eval(path):\n",
    "    return pd.read_json(path, orient=\"index\")"
   ]
  },
  {
   "cell_type": "code",
   "execution_count": 2,
   "id": "4786bcee",
   "metadata": {},
   "outputs": [],
   "source": [
    "def get_number_compile(df):\n",
    "    count = 0\n",
    "    all_count = 0\n",
    "    for index, row in df.iterrows():\n",
    "        for fix in row.fixes:\n",
    "            all_count += 1\n",
    "            if fix[\"comp_pass\"] and row.buggy_line != row.fixed_line:\n",
    "                count += 1\n",
    "    return \"%d / %d (%.2f%%)\" % (count, all_count, count/all_count)"
   ]
  },
  {
   "cell_type": "code",
   "execution_count": 3,
   "id": "89e706ea",
   "metadata": {},
   "outputs": [],
   "source": [
    "def get_number_fixed(df):\n",
    "    count = 0\n",
    "    for index, row in df.iterrows():\n",
    "        for i, fix in enumerate(row.fixes):\n",
    "            if fix[\"test_pass\"] and row.buggy_line != row.fixed_line:\n",
    "                count += 1\n",
    "                break\n",
    "    return \"%d / %d (%.2f%%)\" % (count, len(df), count/len(df))"
   ]
  },
  {
   "cell_type": "code",
   "execution_count": 4,
   "id": "a340669b",
   "metadata": {},
   "outputs": [],
   "source": [
    "def get_table_entry(beam_width, critic, round_, tbb, tbs, tdb, tds, cb, tb, cd, td):\n",
    "    return {\"Hyper Parameters\": {\n",
    "                \"\" :   { \"Beam Width\" : beam_width }\n",
    "            },\n",
    "            \"Training\": {\n",
    "                \"Bears\" : {\"BugLab\" : tbb, \"SelfAPR\": tbs},\n",
    "                \"Defects4J\" : {\"BugLab\" : tdb, \"SelfAPR\": tds},\n",
    "                \"Critic\" : { \"\" : critic },\n",
    "                \"Round\" : { \"\" : round_ }\n",
    "            },\n",
    "            \"Testing\":{\n",
    "                \"Bears Compile\" : { \"\" : cb },\n",
    "                \"Bears Test Pass\" : { \"\" : tb },\n",
    "                \"Defects4J Compile\" : { \"\" : cd},\n",
    "                \"Defects4J Tests Pass\" : { \"\" : td}\n",
    "            }\n",
    "       }"
   ]
  },
  {
   "cell_type": "code",
   "execution_count": 5,
   "id": "cb123cc0",
   "metadata": {},
   "outputs": [],
   "source": [
    "entries = []\n",
    "\n",
    "path = \"/home/andre/Repos/mscthesis/experiments/defects4j_buglab/round0/fixer/eval_defects4j_bw_10.json\"\n",
    "cb = \"N/A\"\n",
    "tb = \"N/A\"\n",
    "cd = get_number_compile(read_eval(path))\n",
    "td = get_number_fixed(read_eval(path))\n",
    "entries += [get_table_entry(10, \"nocritic\", \"round1\", \"\", \"\", \"x\", \"\", cb, tb, cd, td)]\n",
    "\n",
    "path = \"/home/andre/Repos/mscthesis/experiments/defects4j_buglab/round1-nocritic/part2/fixer/eval_defects4j_bw_10.json\"\n",
    "cb = \"N/A\"\n",
    "tb = \"N/A\"\n",
    "cd = get_number_compile(read_eval(path))\n",
    "td = get_number_fixed(read_eval(path))\n",
    "entries += [get_table_entry(10, \"nocritic\", \"round1\", \"\", \"\", \"x\", \"\", cb, tb, cd, td)]"
   ]
  },
  {
   "cell_type": "code",
   "execution_count": 6,
   "id": "c2f8de25",
   "metadata": {},
   "outputs": [
    {
     "data": {
      "text/html": [
       "<div>\n",
       "<style scoped>\n",
       "    .dataframe tbody tr th:only-of-type {\n",
       "        vertical-align: middle;\n",
       "    }\n",
       "\n",
       "    .dataframe tbody tr th {\n",
       "        vertical-align: top;\n",
       "    }\n",
       "\n",
       "    .dataframe thead tr th {\n",
       "        text-align: left;\n",
       "    }\n",
       "</style>\n",
       "<table border=\"1\" class=\"dataframe\">\n",
       "  <thead>\n",
       "    <tr>\n",
       "      <th></th>\n",
       "      <th>Hyper Parameters</th>\n",
       "      <th colspan=\"6\" halign=\"left\">Training</th>\n",
       "      <th colspan=\"4\" halign=\"left\">Testing</th>\n",
       "    </tr>\n",
       "    <tr>\n",
       "      <th></th>\n",
       "      <th></th>\n",
       "      <th colspan=\"2\" halign=\"left\">Bears</th>\n",
       "      <th colspan=\"2\" halign=\"left\">Defects4J</th>\n",
       "      <th>Critic</th>\n",
       "      <th>Round</th>\n",
       "      <th>Bears Compile</th>\n",
       "      <th>Bears Test Pass</th>\n",
       "      <th>Defects4J Compile</th>\n",
       "      <th>Defects4J Tests Pass</th>\n",
       "    </tr>\n",
       "    <tr>\n",
       "      <th></th>\n",
       "      <th>Beam Width</th>\n",
       "      <th>BugLab</th>\n",
       "      <th>SelfAPR</th>\n",
       "      <th>BugLab</th>\n",
       "      <th>SelfAPR</th>\n",
       "      <th></th>\n",
       "      <th></th>\n",
       "      <th></th>\n",
       "      <th></th>\n",
       "      <th></th>\n",
       "      <th></th>\n",
       "    </tr>\n",
       "  </thead>\n",
       "  <tbody>\n",
       "    <tr>\n",
       "      <th>0</th>\n",
       "      <td>10</td>\n",
       "      <td></td>\n",
       "      <td></td>\n",
       "      <td>x</td>\n",
       "      <td></td>\n",
       "      <td>nocritic</td>\n",
       "      <td>round1</td>\n",
       "      <td>N/A</td>\n",
       "      <td>N/A</td>\n",
       "      <td>501 / 4290 (0.12%)</td>\n",
       "      <td>16 / 429 (0.04%)</td>\n",
       "    </tr>\n",
       "    <tr>\n",
       "      <th>1</th>\n",
       "      <td>10</td>\n",
       "      <td></td>\n",
       "      <td></td>\n",
       "      <td>x</td>\n",
       "      <td></td>\n",
       "      <td>nocritic</td>\n",
       "      <td>round1</td>\n",
       "      <td>N/A</td>\n",
       "      <td>N/A</td>\n",
       "      <td>450 / 4290 (0.10%)</td>\n",
       "      <td>14 / 429 (0.03%)</td>\n",
       "    </tr>\n",
       "  </tbody>\n",
       "</table>\n",
       "</div>"
      ],
      "text/plain": [
       "  Hyper Parameters Training                                              \\\n",
       "                      Bears         Defects4J            Critic   Round   \n",
       "        Beam Width   BugLab SelfAPR    BugLab SelfAPR                     \n",
       "0               10                          x          nocritic  round1   \n",
       "1               10                          x          nocritic  round1   \n",
       "\n",
       "        Testing                                                           \n",
       "  Bears Compile Bears Test Pass   Defects4J Compile Defects4J Tests Pass  \n",
       "                                                                          \n",
       "0           N/A             N/A  501 / 4290 (0.12%)     16 / 429 (0.04%)  \n",
       "1           N/A             N/A  450 / 4290 (0.10%)     14 / 429 (0.03%)  "
      ]
     },
     "execution_count": 6,
     "metadata": {},
     "output_type": "execute_result"
    }
   ],
   "source": [
    "table = pd.json_normalize(data=entries)\n",
    "table.columns = table.columns.str.split(\".\").map(tuple)\n",
    "table"
   ]
  },
  {
   "cell_type": "code",
   "execution_count": null,
   "id": "0e376fe6",
   "metadata": {},
   "outputs": [],
   "source": []
  }
 ],
 "metadata": {
  "kernelspec": {
   "display_name": "Python 3",
   "language": "python",
   "name": "python3"
  },
  "language_info": {
   "codemirror_mode": {
    "name": "ipython",
    "version": 3
   },
   "file_extension": ".py",
   "mimetype": "text/x-python",
   "name": "python",
   "nbconvert_exporter": "python",
   "pygments_lexer": "ipython3",
   "version": "3.10.5"
  }
 },
 "nbformat": 4,
 "nbformat_minor": 5
}
