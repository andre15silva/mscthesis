{
 "cells": [
  {
   "cell_type": "code",
   "execution_count": 27,
   "id": "e2547dd4",
   "metadata": {},
   "outputs": [],
   "source": [
    "import pandas as pd\n",
    "import json\n",
    "\n",
    "def read_eval(path):\n",
    "    return pd.read_json(path, orient=\"index\")"
   ]
  },
  {
   "cell_type": "code",
   "execution_count": 28,
   "id": "4786bcee",
   "metadata": {},
   "outputs": [],
   "source": [
    "def get_number_compile(df):\n",
    "    count = 0\n",
    "    all_count = 0\n",
    "    for index, row in df.iterrows():\n",
    "        for fix in row.fixes:\n",
    "            all_count += 1\n",
    "            if fix[\"comp_pass\"] and row.buggy_line != row.fixed_line:\n",
    "                count += 1\n",
    "    return \"%d / %d (%.2f%%)\" % (count, all_count, count/all_count)"
   ]
  },
  {
   "cell_type": "code",
   "execution_count": 29,
   "id": "89e706ea",
   "metadata": {},
   "outputs": [],
   "source": [
    "def get_number_fixed(df):\n",
    "    count = 0\n",
    "    for index, row in df.iterrows():\n",
    "        for i, fix in enumerate(row.fixes):\n",
    "            if fix[\"test_pass\"] and row.buggy_line != row.fixed_line:\n",
    "                count += 1\n",
    "                break\n",
    "    return \"%d / %d (%.2f%%)\" % (count, len(df), count/len(df))"
   ]
  },
  {
   "cell_type": "code",
   "execution_count": 30,
   "id": "a340669b",
   "metadata": {},
   "outputs": [],
   "source": [
    "def get_table_entry(beam_width, critic, round_, tbb, tbs, tdb, tds, cb, tb, cd, td):\n",
    "    return {\"Hyper Parameters\": {\n",
    "                \"\" :   { \"Beam Width\" : beam_width }\n",
    "            },\n",
    "            \"Training\": {\n",
    "                \"Bears\" : {\"BugLab\" : tbb, \"SelfAPR\": tbs},\n",
    "                \"Defects4J\" : {\"BugLab\" : tdb, \"SelfAPR\": tds},\n",
    "                \"Critic\" : { \"\" : critic },\n",
    "                \"Round\" : { \"\" : round_ }\n",
    "            },\n",
    "            \"Testing\":{\n",
    "                \"Bears Compile\" : { \"\" : cb },\n",
    "                \"Bears Test Pass\" : { \"\" : tb },\n",
    "                \"Defects4J Compile\" : { \"\" : cd},\n",
    "                \"Defects4J Tests Pass\" : { \"\" : td}\n",
    "            }\n",
    "       }"
   ]
  },
  {
   "cell_type": "code",
   "execution_count": null,
   "id": "cb123cc0",
   "metadata": {},
   "outputs": [],
   "source": [
    "entries = []\n",
    "\n",
    "path = \"/home/andre/Repos/mscthesis/experiments/defects4j_buglab/round0/fixer/eval_defects4j_bw_100.json\"\n",
    "cb = \"N/A\"\n",
    "tb = \"N/A\"\n",
    "cd = get_number_compile(read_eval(path))\n",
    "td = get_number_fixed(read_eval(path))\n",
    "entries += [get_table_entry(100, \"nocritic\", \"round1\", \"\", \"\", \"x\", \"\", cb, tb, cd, td)]\n",
    "\n",
    "path = \"/home/andre/Repos/mscthesis/experiments/defects4j_buglab/round1-nocritic/part2/fixer/eval_defects4j_bw_10.json\"\n",
    "cb = \"N/A\"\n",
    "tb = \"N/A\"\n",
    "cd = get_number_compile(read_eval(path))\n",
    "td = get_number_fixed(read_eval(path))\n",
    "entries += [get_table_entry(10, \"nocritic\", \"round1\", \"\", \"\", \"x\", \"\", cb, tb, cd, td)]"
   ]
  },
  {
   "cell_type": "code",
   "execution_count": null,
   "id": "c2f8de25",
   "metadata": {},
   "outputs": [],
   "source": [
    "table = pd.json_normalize(data=entries)\n",
    "table.columns = table.columns.str.split(\".\").map(tuple)\n",
    "table"
   ]
  },
  {
   "cell_type": "code",
   "execution_count": null,
   "id": "0e376fe6",
   "metadata": {},
   "outputs": [],
   "source": []
  }
 ],
 "metadata": {
  "kernelspec": {
   "display_name": "Python 3",
   "language": "python",
   "name": "python3"
  },
  "language_info": {
   "codemirror_mode": {
    "name": "ipython",
    "version": 3
   },
   "file_extension": ".py",
   "mimetype": "text/x-python",
   "name": "python",
   "nbconvert_exporter": "python",
   "pygments_lexer": "ipython3",
   "version": "3.10.5"
  }
 },
 "nbformat": 4,
 "nbformat_minor": 5
}
