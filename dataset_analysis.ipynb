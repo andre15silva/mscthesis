{
 "cells": [
  {
   "cell_type": "markdown",
   "id": "caeb182d",
   "metadata": {},
   "source": [
    "Load the dataset"
   ]
  },
  {
   "cell_type": "code",
   "execution_count": 2,
   "id": "0c945203",
   "metadata": {},
   "outputs": [
    {
     "name": "stderr",
     "output_type": "stream",
     "text": [
      "Using custom data configuration default-cfe4d697bf0d4714\n"
     ]
    },
    {
     "name": "stdout",
     "output_type": "stream",
     "text": [
      "Downloading and preparing dataset json/default to /home/andre/.cache/huggingface/datasets/json/default-cfe4d697bf0d4714/0.0.0/ac0ca5f5289a6cf108e706efcf040422dbbfa8e658dee6a819f20d76bb84d26b...\n"
     ]
    },
    {
     "data": {
      "application/vnd.jupyter.widget-view+json": {
       "model_id": "8ffe7e4a73c2406096dbc504d8495fe3",
       "version_major": 2,
       "version_minor": 0
      },
      "text/plain": [
       "Downloading data files:   0%|          | 0/1 [00:00<?, ?it/s]"
      ]
     },
     "metadata": {},
     "output_type": "display_data"
    },
    {
     "data": {
      "application/vnd.jupyter.widget-view+json": {
       "model_id": "5eeff90d8eaf49ae8f75a29043d3b9f2",
       "version_major": 2,
       "version_minor": 0
      },
      "text/plain": [
       "Extracting data files:   0%|          | 0/1 [00:00<?, ?it/s]"
      ]
     },
     "metadata": {},
     "output_type": "display_data"
    },
    {
     "name": "stdout",
     "output_type": "stream",
     "text": [
      "Dataset json downloaded and prepared to /home/andre/.cache/huggingface/datasets/json/default-cfe4d697bf0d4714/0.0.0/ac0ca5f5289a6cf108e706efcf040422dbbfa8e658dee6a819f20d76bb84d26b. Subsequent calls will reuse this data.\n"
     ]
    },
    {
     "data": {
      "application/vnd.jupyter.widget-view+json": {
       "model_id": "2c424a5dfb834bd5b9f9b6b6dadf02cb",
       "version_major": 2,
       "version_minor": 0
      },
      "text/plain": [
       "  0%|          | 0/1 [00:00<?, ?it/s]"
      ]
     },
     "metadata": {},
     "output_type": "display_data"
    },
    {
     "data": {
      "text/plain": [
       "DatasetDict({\n",
       "    train: Dataset({\n",
       "        features: ['identifier', 'path', 'diff'],\n",
       "        num_rows: 96803\n",
       "    })\n",
       "})"
      ]
     },
     "execution_count": 2,
     "metadata": {},
     "output_type": "execute_result"
    }
   ],
   "source": [
    "from datasets import load_dataset, load_metric\n",
    "\n",
    "code_dataset = load_dataset(\"json\", data_files=\"perturbations/defects4j_generated_hunk.json\", field=\"bugs\")\n",
    "code_dataset"
   ]
  },
  {
   "cell_type": "code",
   "execution_count": 4,
   "id": "e7720d17",
   "metadata": {},
   "outputs": [],
   "source": [
    "from unidiff import PatchSet\n",
    "\n",
    "def source_str(example):\n",
    "    diff = PatchSet(example)\n",
    "    source = \"\"\n",
    "    for line in diff[0][0].target_lines():\n",
    "        if line.is_added:\n",
    "            source += \" [START_BUGGY] \" + line.value.strip() + \" [END_BUGGY]\"\n",
    "        else:\n",
    "            source += line.value.strip()\n",
    "    return source\n",
    "        \n",
    "def target_str(example):\n",
    "    diff = PatchSet(example)\n",
    "    target = \"\"\n",
    "    for line in diff[0][0].source_lines():\n",
    "        target += line.value.strip()\n",
    "    return target"
   ]
  },
  {
   "cell_type": "code",
   "execution_count": 5,
   "id": "ddd60ae1",
   "metadata": {},
   "outputs": [
    {
     "data": {
      "text/plain": [
       "PreTrainedTokenizer(name_or_path='./models/test_run', vocab_size=50005, model_max_len=1024, is_fast=False, padding_side='right', truncation_side='right', special_tokens={'bos_token': '<s>', 'eos_token': '</s>', 'unk_token': '<unk>', 'sep_token': '</s>', 'pad_token': '<pad>', 'cls_token': '<s>', 'mask_token': AddedToken(\"<mask>\", rstrip=False, lstrip=True, single_word=False, normalized=True), 'additional_special_tokens': ['java', 'python', 'en_XX']})"
      ]
     },
     "execution_count": 5,
     "metadata": {},
     "output_type": "execute_result"
    }
   ],
   "source": [
    "from transformers import AutoTokenizer\n",
    "\n",
    "tokenizer = AutoTokenizer.from_pretrained(\"./models/test_run\")\n",
    "tokenizer.add_tokens([\"[START_BUGGY]\", \"[END_BUGGY]\"])\n",
    "tokenizer"
   ]
  },
  {
   "cell_type": "code",
   "execution_count": 17,
   "id": "ab7982f6",
   "metadata": {},
   "outputs": [
    {
     "name": "stdout",
     "output_type": "stream",
     "text": [
      "--- /home/andre/Repos/mscthesis/perturbations/defects4j/Closure-106/src/com/google/javascript/rhino/Parser.java\t2022-04-13 14:11:14.378630374 +0100\n",
      "+++ /tmp/tmpeuh8q3lp.java\t2022-05-06 15:48:33.320562632 +0100\n",
      "@@ -1557,11 +1557,11 @@\n",
      "     }\n",
      " \n",
      "     private Node bitAndExpr(boolean inForInit)\n",
      "         throws IOException, JavaScriptException\n",
      "     {\n",
      "-        Node pn = eqExpr(inForInit);\n",
      "+\n",
      "         while (matchToken(Token.BITAND)) {\n",
      "             int lineno = ts.getLineno();\n",
      "             int charno = ts.getCharno();\n",
      "             decompiler.addToken(Token.BITAND);\n",
      "             pn = nf.createBinary(Token.BITAND, pn, eqExpr(inForInit), lineno,\n",
      "\n"
     ]
    }
   ],
   "source": [
    "print(code_dataset[\"train\"][0][\"diff\"])"
   ]
  },
  {
   "cell_type": "code",
   "execution_count": 19,
   "id": "70fc1119",
   "metadata": {},
   "outputs": [
    {
     "data": {
      "text/plain": [
       "{'input_ids': [65, 9103, 1896, 1814, 1501, 6125, 33460, 11207, 55, 1305, 2675, 33459, 29686, 1363, 33463, 2171, 290, 33483, 50005, 50006, 927, 5, 2347, 1791, 33460, 1791, 33455, 15793, 4689, 1580, 66, 234, 5514, 24, 4323, 33455, 300, 33466, 8, 4094, 733, 234, 930, 2159, 24, 4323, 33455, 300, 507, 2086, 33444, 733, 2756, 14172, 2766, 33455, 798, 1791, 33460, 1791, 33455, 15793, 4689, 226, 7334, 24, 18026, 33455, 1803, 5848, 33460, 1791, 33455, 15793, 4689, 33463, 12665, 33463, 3657, 6125, 33460, 8, 1305, 2675, 888, 5514, 33463, 2], 'attention_mask': [1, 1, 1, 1, 1, 1, 1, 1, 1, 1, 1, 1, 1, 1, 1, 1, 1, 1, 1, 1, 1, 1, 1, 1, 1, 1, 1, 1, 1, 1, 1, 1, 1, 1, 1, 1, 1, 1, 1, 1, 1, 1, 1, 1, 1, 1, 1, 1, 1, 1, 1, 1, 1, 1, 1, 1, 1, 1, 1, 1, 1, 1, 1, 1, 1, 1, 1, 1, 1, 1, 1, 1, 1, 1, 1, 1, 1, 1, 1, 1, 1, 1, 1, 1, 1, 1, 1, 1]}"
      ]
     },
     "execution_count": 19,
     "metadata": {},
     "output_type": "execute_result"
    }
   ],
   "source": [
    "tokenizer(source_str(code_dataset[\"train\"][0][\"diff\"]))"
   ]
  },
  {
   "cell_type": "code",
   "execution_count": 25,
   "id": "47512fcf",
   "metadata": {},
   "outputs": [],
   "source": [
    "frequency = {}\n",
    "for example in code_dataset[\"train\"]:\n",
    "    l = len(tokenizer(source_str(example[\"diff\"])).input_ids)\n",
    "    if l in frequency:\n",
    "        frequency[l] += 1\n",
    "    else:\n",
    "        frequency[l] = 1\n",
    "    l = len(tokenizer(target_str(example[\"diff\"])).input_ids)\n",
    "    if l in frequency:\n",
    "        frequency[l] += 1\n",
    "    else:\n",
    "        frequency[l] = 1"
   ]
  },
  {
   "cell_type": "code",
   "execution_count": 37,
   "id": "80600eb7",
   "metadata": {},
   "outputs": [
    {
     "name": "stdout",
     "output_type": "stream",
     "text": [
      "732\n"
     ]
    },
    {
     "data": {
      "image/png": "[encoded data removed]",
      "text/plain": [
       "<Figure size 432x288 with 1 Axes>"
      ]
     },
     "metadata": {
      "needs_background": "light"
     },
     "output_type": "display_data"
    }
   ],
   "source": [
    "import matplotlib.pyplot as plt\n",
    "\n",
    "print(max(frequency.keys()))\n",
    "\n",
    "plt.hist(frequency)\n",
    "plt.show()"
   ]
  },
  {
   "cell_type": "code",
   "execution_count": null,
   "id": "34d22480",
   "metadata": {},
   "outputs": [],
   "source": []
  }
 ],
 "metadata": {
  "kernelspec": {
   "display_name": "Python 3",
   "language": "python",
   "name": "python3"
  },
  "language_info": {
   "codemirror_mode": {
    "name": "ipython",
    "version": 3
   },
   "file_extension": ".py",
   "mimetype": "text/x-python",
   "name": "python",
   "nbconvert_exporter": "python",
   "pygments_lexer": "ipython3",
   "version": "3.10.4"
  }
 },
 "nbformat": 4,
 "nbformat_minor": 5
}
